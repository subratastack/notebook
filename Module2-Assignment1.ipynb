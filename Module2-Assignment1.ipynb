{
  "nbformat": 4,
  "nbformat_minor": 0,
  "metadata": {
    "colab": {
      "name": "Untitled2.ipynb",
      "provenance": [],
      "collapsed_sections": [],
      "authorship_tag": "ABX9TyO4DsuO0Ccp8fNggF1DnEgY",
      "include_colab_link": true
    },
    "kernelspec": {
      "name": "python3",
      "display_name": "Python 3"
    },
    "language_info": {
      "name": "python"
    }
  },
  "cells": [
    {
      "cell_type": "markdown",
      "metadata": {
        "id": "view-in-github",
        "colab_type": "text"
      },
      "source": [
        "<a href=\"https://colab.research.google.com/github/subratastack/notebook_intellipat/blob/main/Module2-Assignment1.ipynb\" target=\"_parent\"><img src=\"https://colab.research.google.com/assets/colab-badge.svg\" alt=\"Open In Colab\"/></a>"
      ]
    },
    {
      "cell_type": "markdown",
      "metadata": {
        "id": "vvkfOFDOCf9S"
      },
      "source": [
        "**Take two user inputs and pass those input variables in a try block. If the user input is 0, then throw the ZeroDivisionError exception.**"
      ]
    },
    {
      "cell_type": "code",
      "metadata": {
        "colab": {
          "base_uri": "https://localhost:8080/"
        },
        "id": "wOhAQkpZCj2W",
        "outputId": "1438d8c9-32a8-4a39-ae7a-f3c71d175aca"
      },
      "source": [
        "try:\n",
        "  a = int(input(\"Enter the first number: \"))\n",
        "  b = int(input(\"Enter the second number: \"))\n",
        "  if a == 0 or b == 0:\n",
        "    raise ZeroDivisionError\n",
        "except(ZeroDivisionError):\n",
        "  print(\"Input cannot be zero\")\n"
      ],
      "execution_count": 6,
      "outputs": [
        {
          "output_type": "stream",
          "name": "stdout",
          "text": [
            "Enter the first number: 0\n",
            "Enter the second number: 1\n",
            "Input cannot be zero\n"
          ]
        }
      ]
    },
    {
      "cell_type": "markdown",
      "metadata": {
        "id": "O6SD4VXeNQhh"
      },
      "source": [
        "**Import math package and with the help of math package, print – math.exp(50000). Now use the inbuilt OverflowError exception on the math.exp(), and print the exception.**"
      ]
    },
    {
      "cell_type": "code",
      "metadata": {
        "colab": {
          "base_uri": "https://localhost:8080/"
        },
        "id": "l2oGj7ppNV2u",
        "outputId": "0402be81-25ae-4f98-e42c-924c468b98f2"
      },
      "source": [
        "import math\n",
        "\n",
        "try:\n",
        "  math.exp(5000)\n",
        "except(OverflowError):\n",
        "  print('Overflow error, reduce the number')"
      ],
      "execution_count": 2,
      "outputs": [
        {
          "output_type": "stream",
          "name": "stdout",
          "text": [
            "Overflow error, reduce the number\n"
          ]
        }
      ]
    },
    {
      "cell_type": "markdown",
      "metadata": {
        "id": "KrhLuFBqN39Q"
      },
      "source": [
        "**Now install the ‘termcolor’ package in the anaconda prompt, and import that package to provide the colors to the print statement in Jupyter Notebook.**"
      ]
    },
    {
      "cell_type": "code",
      "metadata": {
        "colab": {
          "base_uri": "https://localhost:8080/"
        },
        "id": "E_mYnFL5N7Oh",
        "outputId": "fc56339c-ec9d-4222-fcd8-83d2d8794403"
      },
      "source": [
        "from termcolor import colored\n",
        "print(colored('hello', 'red'), colored('world', 'green'))"
      ],
      "execution_count": 3,
      "outputs": [
        {
          "output_type": "stream",
          "name": "stdout",
          "text": [
            "\u001b[31mhello\u001b[0m \u001b[32mworld\u001b[0m\n"
          ]
        }
      ]
    },
    {
      "cell_type": "markdown",
      "metadata": {
        "id": "KQn254H4PHda"
      },
      "source": [
        "**Create your own exception with the help of class and functions.**"
      ]
    },
    {
      "cell_type": "code",
      "metadata": {
        "colab": {
          "base_uri": "https://localhost:8080/"
        },
        "id": "A8n4UkRLPM_h",
        "outputId": "6eaab41f-d1dd-437b-bb52-d55c83adf962"
      },
      "source": [
        "class Error(Exception):\n",
        "  pass\n",
        "\n",
        "class ValueTooSmallError(Error):\n",
        "  pass\n",
        "\n",
        "\n",
        "try:\n",
        "  a = int(input(\"Enter a number: \"))\n",
        "  if a > 100:\n",
        "    raise ValueTooSmallError\n",
        "except(ValueTooSmallError):\n",
        "  print(\"Enter value within 100\")"
      ],
      "execution_count": 4,
      "outputs": [
        {
          "output_type": "stream",
          "name": "stdout",
          "text": [
            "Enter a number: 102\n",
            "Enter value within 100\n"
          ]
        }
      ]
    }
  ]
}