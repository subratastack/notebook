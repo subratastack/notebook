{
  "nbformat": 4,
  "nbformat_minor": 0,
  "metadata": {
    "colab": {
      "name": "Untitled2.ipynb",
      "provenance": [],
      "collapsed_sections": [],
      "authorship_tag": "ABX9TyMi0V44lQ0tGzb0ZCh8vR4x",
      "include_colab_link": true
    },
    "kernelspec": {
      "name": "python3",
      "display_name": "Python 3"
    },
    "language_info": {
      "name": "python"
    }
  },
  "cells": [
    {
      "cell_type": "markdown",
      "metadata": {
        "id": "view-in-github",
        "colab_type": "text"
      },
      "source": [
        "<a href=\"https://colab.research.google.com/github/subratastack/notebook_intellipat/blob/main/Module2-Assignment1.ipynb\" target=\"_parent\"><img src=\"https://colab.research.google.com/assets/colab-badge.svg\" alt=\"Open In Colab\"/></a>"
      ]
    },
    {
      "cell_type": "markdown",
      "metadata": {
        "id": "vvkfOFDOCf9S"
      },
      "source": [
        "**Take two user inputs and pass those input variables in a try block. If the user input is 0, then throw the ZeroDivisionError exception.**"
      ]
    },
    {
      "cell_type": "code",
      "metadata": {
        "colab": {
          "base_uri": "https://localhost:8080/"
        },
        "id": "wOhAQkpZCj2W",
        "outputId": "0f0bac47-0e48-4364-90c2-c5a72b012c97"
      },
      "source": [
        "try:\n",
        "  a = int(input(\"Enter the first number: \"))\n",
        "  b = int(input(\"Enter the second number: \"))\n",
        "  result = a/b\n",
        "except(ZeroDivisionError):\n",
        "  print(\"You cannot divide a number with zero\")\n"
      ],
      "execution_count": 1,
      "outputs": [
        {
          "output_type": "stream",
          "name": "stdout",
          "text": [
            "Enter the first number: 5\n",
            "Enter the second number: 0\n",
            "You cannot divide a number with zero\n"
          ]
        }
      ]
    },
    {
      "cell_type": "markdown",
      "metadata": {
        "id": "O6SD4VXeNQhh"
      },
      "source": [
        "**Import math package and with the help of math package, print – math.exp(50000). Now use the inbuilt OverflowError exception on the math.exp(), and print the exception.**"
      ]
    },
    {
      "cell_type": "code",
      "metadata": {
        "colab": {
          "base_uri": "https://localhost:8080/"
        },
        "id": "l2oGj7ppNV2u",
        "outputId": "0402be81-25ae-4f98-e42c-924c468b98f2"
      },
      "source": [
        "import math\n",
        "\n",
        "try:\n",
        "  math.exp(5000)\n",
        "except(OverflowError):\n",
        "  print('Overflow error, reduce the number')"
      ],
      "execution_count": 2,
      "outputs": [
        {
          "output_type": "stream",
          "name": "stdout",
          "text": [
            "Overflow error, reduce the number\n"
          ]
        }
      ]
    },
    {
      "cell_type": "markdown",
      "metadata": {
        "id": "KrhLuFBqN39Q"
      },
      "source": [
        "**Now install the ‘termcolor’ package in the anaconda prompt, and import that package to provide the colors to the print statement in Jupyter Notebook.**"
      ]
    },
    {
      "cell_type": "code",
      "metadata": {
        "colab": {
          "base_uri": "https://localhost:8080/"
        },
        "id": "E_mYnFL5N7Oh",
        "outputId": "fc56339c-ec9d-4222-fcd8-83d2d8794403"
      },
      "source": [
        "from termcolor import colored\n",
        "print(colored('hello', 'red'), colored('world', 'green'))"
      ],
      "execution_count": 3,
      "outputs": [
        {
          "output_type": "stream",
          "name": "stdout",
          "text": [
            "\u001b[31mhello\u001b[0m \u001b[32mworld\u001b[0m\n"
          ]
        }
      ]
    }
  ]
}